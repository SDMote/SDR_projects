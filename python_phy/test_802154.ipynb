{
 "cells": [
  {
   "cell_type": "markdown",
   "metadata": {},
   "source": [
    "# Testing IEEE 802.15.4 packet sink block Python translation"
   ]
  },
  {
   "cell_type": "code",
   "execution_count": 1,
   "metadata": {},
   "outputs": [
    {
     "name": "stdout",
     "output_type": "stream",
     "text": [
      "2\n"
     ]
    }
   ],
   "source": [
    "def count_set_bits(n: int, bits: int = 32) -> int:\n",
    "    \"\"\"Return the number of set bits in the lowest 'bits' of 'n'.\"\"\"\n",
    "    mask = (1 << bits) - 1  # Create a mask for the lowest 'bits' bits\n",
    "    return bin(n & mask).count(\"1\")\n",
    "\n",
    "\n",
    "print(\n",
    "    count_set_bits(0b0100_1110_0000_0111_0111_1010_1110_0110, 4)\n",
    ")  # Counts bits in the lowest 4 bits (0110) → Output: 2"
   ]
  },
  {
   "cell_type": "code",
   "execution_count": 2,
   "metadata": {},
   "outputs": [
    {
     "name": "stdout",
     "output_type": "stream",
     "text": [
      "diff_bits = 12\n",
      "diff_bits = 12\n",
      "diff_bits = 11\n",
      "diff_bits = 12\n",
      "diff_bits = 13\n",
      "diff_bits = 12\n",
      "diff_bits = 13\n",
      "diff_bits = 13\n",
      "diff_bits = 18\n",
      "diff_bits = 18\n",
      "diff_bits = 19\n",
      "diff_bits = 18\n",
      "diff_bits = 17\n",
      "diff_bits = 18\n",
      "diff_bits = 17\n",
      "diff_bits = 17\n",
      "test_variable = 2\n"
     ]
    }
   ],
   "source": [
    "import numpy as np\n",
    "\n",
    "# Chip mapping for MSK-based IEEE 802.15.4 demodulation\n",
    "# Important: sequences are inverted bit-wise. The LSB of each uint32 number\n",
    "# is the last chip sent on air\n",
    "CHIP_MAPPING: np.ndarray = np.array(\n",
    "    [\n",
    "        0xE077AE6C,  # 0\n",
    "        0xCE077AE6,  # 1\n",
    "        0x6CE077AE,  # 2\n",
    "        0xE6CE077A,  # 3\n",
    "        0xAE6CE077,  # 4\n",
    "        0x7AE6CE07,  # 5\n",
    "        0x77AE6CE0,  # 6\n",
    "        0x877AE6CE,  # 7\n",
    "        0x1F885193,  # 8\n",
    "        0x31F88519,  # 9\n",
    "        0x931F8851,  # A\n",
    "        0x1931F885,  # B\n",
    "        0x51931F88,  # C\n",
    "        0x851931F8,  # D\n",
    "        0x8851931F,  # E\n",
    "        0x78851931,  # F\n",
    "    ],\n",
    "    dtype=np.uint32,\n",
    ")\n",
    "MAX_PKT_LEN: int = 127\n",
    "\n",
    "\n",
    "def decode_chips(chips32: int, threshold: int = 32) -> int:\n",
    "    \"\"\"Decodes the received chip sequence by comparing it against a known mapping.\"\"\"\n",
    "    best_match = 0xFF\n",
    "    min_threshold = 33  # Value greater than the maximum possible errors (32 bits)\n",
    "\n",
    "    for i in range(16):\n",
    "        # 0x7FFFFFFE masks out the first and last bit, since these depend on previous chip data\n",
    "        # This is because we are using differential encoding\n",
    "        masked_diff = (chips32 ^ CHIP_MAPPING[i]) & 0x7FFFFFFE\n",
    "        diff_bits = count_set_bits(masked_diff, 32)  # Count the number of bits that differ\n",
    "        print(f\"{diff_bits = }\")\n",
    "\n",
    "        if diff_bits < min_threshold:\n",
    "            best_match = i\n",
    "            min_threshold = diff_bits\n",
    "\n",
    "    if min_threshold <= threshold:\n",
    "        return best_match & 0xF  # Return position in chip mapping\n",
    "\n",
    "    return 0xFF  # If no valid match was found, return 0xFF to indicate an error.\n",
    "\n",
    "\n",
    "# Use threshold = 32 to simply find the closest match!\n",
    "# Use low threshold for preamble detection and length reading\n",
    "# Use high threshold for payload (we are sure we received a IEEE 802.15.4 packet, but may be interfered during the payload)\n",
    "test_variable = decode_chips(0b0111_1110_1111_1111_1111_1111_1111_1111, 32)\n",
    "print(f\"{test_variable = }\")"
   ]
  },
  {
   "cell_type": "code",
   "execution_count": 3,
   "metadata": {},
   "outputs": [
    {
     "name": "stdout",
     "output_type": "stream",
     "text": [
      "11100000011101111010111001101100_11100000011101111010111001101100_11100000011101111010111001101100_11100000011101111010111001101100_11100000011101111010111001101100_11100000011101111010111001101100_11100000011101111010111001101100_11100000011101111010111001101100_10000111011110101110011011001110_10010011000111111000100001010001\n"
     ]
    }
   ],
   "source": [
    "def map_nibbles_to_chip_string(byte_array: list[int], chip_mapping: np.ndarray) -> str:\n",
    "    result = []\n",
    "    for byte in byte_array:\n",
    "        for nibble in [byte & 0x0F, (byte >> 4) & 0x0F]:  # Extract LSB first, then MSB\n",
    "            mapped_value = chip_mapping[nibble]\n",
    "            binary_string = f\"{mapped_value:032b}\"  # Convert to 32-bit binary\n",
    "            result.append(binary_string)  # Append delimiter\n",
    "    return \"_\".join(result)\n",
    "\n",
    "\n",
    "# Example usage:\n",
    "byte_array = [0x00, 0x00, 0x00, 0x00, 0xA7]\n",
    "print(map_nibbles_to_chip_string(byte_array, CHIP_MAPPING))"
   ]
  }
 ],
 "metadata": {
  "kernelspec": {
   "display_name": ".venv",
   "language": "python",
   "name": "python3"
  },
  "language_info": {
   "codemirror_mode": {
    "name": "ipython",
    "version": 3
   },
   "file_extension": ".py",
   "mimetype": "text/x-python",
   "name": "python",
   "nbconvert_exporter": "python",
   "pygments_lexer": "ipython3",
   "version": "3.10.12"
  }
 },
 "nbformat": 4,
 "nbformat_minor": 2
}
