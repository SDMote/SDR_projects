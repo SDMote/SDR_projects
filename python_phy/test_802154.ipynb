{
 "cells": [
  {
   "cell_type": "markdown",
   "metadata": {},
   "source": [
    "# Testing IEEE 802.15.4 packet sink block Python translation"
   ]
  },
  {
   "cell_type": "code",
   "execution_count": 53,
   "metadata": {},
   "outputs": [
    {
     "name": "stdout",
     "output_type": "stream",
     "text": [
      "17\n"
     ]
    }
   ],
   "source": [
    "def count_set_bits(n: int, bits: int) -> int:\n",
    "    \"\"\"Return the number of set bits in the lowest 'bits' of 'n'.\"\"\"\n",
    "    mask = (1 << bits) - 1  # Create a mask for the lowest 'bits' bits\n",
    "    return bin(n & mask).count(\"1\")\n",
    "\n",
    "\n",
    "print(\n",
    "    count_set_bits(0b0100_1110_0000_0111_0111_1010_1110_0110, 32)\n",
    ")  # Counts bits in the lowest 4 bits (0110) → Output: 2"
   ]
  },
  {
   "cell_type": "code",
   "execution_count": 55,
   "metadata": {},
   "outputs": [
    {
     "name": "stdout",
     "output_type": "stream",
     "text": [
      "diff_bits = 15\n",
      "diff_bits = 3\n",
      "diff_bits = 12\n",
      "diff_bits = 13\n",
      "diff_bits = 14\n",
      "diff_bits = 17\n",
      "diff_bits = 16\n",
      "diff_bits = 16\n",
      "diff_bits = 15\n",
      "diff_bits = 27\n",
      "diff_bits = 18\n",
      "diff_bits = 17\n",
      "diff_bits = 16\n",
      "diff_bits = 13\n",
      "diff_bits = 14\n",
      "diff_bits = 14\n",
      "test_variable = 1\n"
     ]
    }
   ],
   "source": [
    "import numpy as np\n",
    "\n",
    "# Chip mapping for MSK-based IEEE 802.15.4 demodulation\n",
    "CHIP_MAPPING: np.ndarray = np.array(\n",
    "    [\n",
    "        0x6077AE6C,  # 0\n",
    "        0x4E077AE6,  # 1\n",
    "        0x6CE077AE,  # 2\n",
    "        0x66CE077A,  # 3\n",
    "        0x2E6CE077,  # 4\n",
    "        0x7AE6CE07,  # 5\n",
    "        0x77AE6CE0,  # 6\n",
    "        0x077AE6CE,  # 7\n",
    "        0x1F885193,  # 8\n",
    "        0x31F88519,  # 9\n",
    "        0x131F8851,  # 10\n",
    "        0x1931F885,  # 11\n",
    "        0x51931F88,  # 12\n",
    "        0x051931F8,  # 13\n",
    "        0x0851931F,  # 14\n",
    "        0x78851931,  # 15\n",
    "    ],\n",
    "    dtype=np.uint32,\n",
    ")\n",
    "MAX_PKT_LEN: int = 127\n",
    "\n",
    "\n",
    "def decode_chips(chips32: int, threshold: int) -> int:\n",
    "    \"\"\"Decodes the received chip sequence by comparing it against a known mapping.\"\"\"\n",
    "    best_match = 0xFF\n",
    "    min_threshold = 33  # Value greater than the maximum possible errors (32 bits)\n",
    "\n",
    "    for i in range(16):\n",
    "        # 0x7FFFFFFE masks out the first and last bit, since these depend on previous chip data\n",
    "        # This is because we are using differential encoding\n",
    "        masked_diff = (chips32 ^ CHIP_MAPPING[i]) & 0x7FFFFFFE\n",
    "        diff_bits = count_set_bits(masked_diff, 32)  # Count the number of bits that differ\n",
    "        print(f\"{diff_bits = }\")\n",
    "\n",
    "        if diff_bits < min_threshold:\n",
    "            best_match = i\n",
    "            min_threshold = diff_bits\n",
    "\n",
    "    if min_threshold <= threshold:\n",
    "        return best_match & 0xF  # Return the lower 4 bits of the best matching symbol\n",
    "\n",
    "    # If no valid match was found, return 0xFF to indicate an error.\n",
    "    return 0xFF\n",
    "\n",
    "\n",
    "test_variable = decode_chips(0b0100_1110_0000_0111_0111_1011_1111_1110, 3)\n",
    "print(f\"{test_variable = }\")"
   ]
  }
 ],
 "metadata": {
  "kernelspec": {
   "display_name": ".venv",
   "language": "python",
   "name": "python3"
  },
  "language_info": {
   "codemirror_mode": {
    "name": "ipython",
    "version": 3
   },
   "file_extension": ".py",
   "mimetype": "text/x-python",
   "name": "python",
   "nbconvert_exporter": "python",
   "pygments_lexer": "ipython3",
   "version": "3.10.12"
  }
 },
 "nbformat": 4,
 "nbformat_minor": 2
}
