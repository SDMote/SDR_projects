{
 "cells": [
  {
   "cell_type": "code",
   "execution_count": 1,
   "metadata": {},
   "outputs": [],
   "source": [
    "import numpy as np\n",
    "import matplotlib.pyplot as plt\n",
    "\n",
    "from packet_utils import compute_crc, ble_whitening\n",
    "\n",
    "# payload -> packet (bytes)(whitened) DONE\n",
    "# bytes -> bits\n",
    "# bits -> IQ"
   ]
  },
  {
   "cell_type": "code",
   "execution_count": 2,
   "metadata": {},
   "outputs": [
    {
     "name": "stdout",
     "output_type": "stream",
     "text": [
      "Packet bytes:\n",
      "['0xaa', '0x78', '0x56', '0x34', '0x12', '0x0', '0x40', '0xb0', '0x17', '0xe', '0x70', '0x36', '0x9d']\n"
     ]
    }
   ],
   "source": [
    "def create_packet(payload: np.ndarray, base_addr: int) -> np.ndarray:\n",
    "    \"\"\"\n",
    "    Create a physical BLE packet from payload and base address.\n",
    "\n",
    "    Packet Structure:\n",
    "    ┌───────────┬──────────────┬───────────────┬───────────┬────────┬────────┬─────────┐\n",
    "    │ Preamble  │ Base Address │ Prefix (0x00) │ S0 (0x00) │ Length │ PDU    │ CRC     │\n",
    "    ├───────────┼──────────────┼───────────────┼───────────┼────────┼────────┼─────────┤\n",
    "    │ 0xAA/0x55 │ 4 bytes      │ 1 byte        │ 1 byte    │ 1 byte │ 0–255B │ 3 bytes │\n",
    "    └───────────┴──────────────┴───────────────┴───────────┴────────┴────────┴─────────┘\n",
    "    \"\"\"\n",
    "    # Set the preamble based on the LSB of the base address\n",
    "    preamble = np.uint8(0x55 if (base_addr & 0x01) else 0xAA)\n",
    "\n",
    "    # Convert base address into 4 bytes in little-endian order\n",
    "    base_addr_len = 4\n",
    "    base_addr_bytes = np.array([np.uint8((base_addr >> (i * 8)) & 0xFF) for i in range(base_addr_len)], dtype=np.uint8)\n",
    "\n",
    "    # Set prefix, S0 and length bytes\n",
    "    prefix = np.uint8(0x00)\n",
    "    s0 = np.uint8(0x00)\n",
    "    length = np.uint8(len(payload))\n",
    "\n",
    "    # Append CRC\n",
    "    ready_for_crc = np.concatenate(([s0, length], payload))\n",
    "    crc = compute_crc(ready_for_crc, crc_init=0x00FFFF, crc_poly=0x00065B, crc_size=3)\n",
    "    ready_for_whitening = np.concatenate((ready_for_crc, crc))\n",
    "\n",
    "    # Whiten from S0 to CRC\n",
    "    whitened, _ = ble_whitening(ready_for_whitening)\n",
    "    packet = np.concatenate(([preamble], base_addr_bytes, [prefix], whitened))\n",
    "\n",
    "    return packet\n",
    "\n",
    "\n",
    "# Example values:\n",
    "base_addr = 0x12345678\n",
    "payload = np.array([0xAB, 0xCD], dtype=np.uint8)\n",
    "\n",
    "packet = create_packet(payload, base_addr)\n",
    "print(\"Packet bytes:\")\n",
    "print([hex(byte) for byte in packet])"
   ]
  }
 ],
 "metadata": {
  "kernelspec": {
   "display_name": "Python 3",
   "language": "python",
   "name": "python3"
  },
  "language_info": {
   "codemirror_mode": {
    "name": "ipython",
    "version": 3
   },
   "file_extension": ".py",
   "mimetype": "text/x-python",
   "name": "python",
   "nbconvert_exporter": "python",
   "pygments_lexer": "ipython3",
   "version": "3.10.12"
  }
 },
 "nbformat": 4,
 "nbformat_minor": 2
}
