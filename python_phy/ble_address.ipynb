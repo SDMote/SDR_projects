{
 "cells": [
  {
   "cell_type": "code",
   "execution_count": 38,
   "metadata": {},
   "outputs": [],
   "source": [
    "# I want to achieve this\n",
    "string_bits = \"01010101_00011110_01101010_00101100_01001000_00000000\""
   ]
  },
  {
   "cell_type": "code",
   "execution_count": 39,
   "metadata": {},
   "outputs": [
    {
     "name": "stdout",
     "output_type": "stream",
     "text": [
      "01010101_00011110_01101010_00101100_01001000_00000000\n"
     ]
    }
   ],
   "source": [
    "# Generates (preamble + base address sequence) to use as access code\n",
    "def generate_access_code_ble(base_address: int) -> str:\n",
    "    base_address &= 0xFFFFFFFF  # 4-byte unsigned long\n",
    "    preamble = 0xAA if base_address & 0x01 else 0x55\n",
    "    preamble = format(preamble, \"08b\")\n",
    "\n",
    "    base_address = base_address.to_bytes(4, byteorder=\"little\")\n",
    "    base_address = [format(byte, \"08b\")[::-1] for byte in base_address]\n",
    "    address_prefix = \"00000000\"\n",
    "\n",
    "    return \"_\".join([preamble] + base_address + [address_prefix])\n",
    "\n",
    "\n",
    "# Example usage\n",
    "bitstring = generate_access_code_ble(0x12345678)\n",
    "print(bitstring)"
   ]
  }
 ],
 "metadata": {
  "kernelspec": {
   "display_name": ".venv",
   "language": "python",
   "name": "python3"
  },
  "language_info": {
   "codemirror_mode": {
    "name": "ipython",
    "version": 3
   },
   "file_extension": ".py",
   "mimetype": "text/x-python",
   "name": "python",
   "nbconvert_exporter": "python",
   "pygments_lexer": "ipython3",
   "version": "3.10.12"
  }
 },
 "nbformat": 4,
 "nbformat_minor": 2
}
