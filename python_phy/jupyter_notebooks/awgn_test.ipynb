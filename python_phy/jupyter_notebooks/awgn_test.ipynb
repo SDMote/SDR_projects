{
 "cells": [
  {
   "cell_type": "markdown",
   "metadata": {},
   "source": [
    "# Checking AWGN function power and Parseval theorem for discrete data"
   ]
  },
  {
   "cell_type": "code",
   "execution_count": 1,
   "metadata": {},
   "outputs": [
    {
     "name": "stdout",
     "output_type": "stream",
     "text": [
      "Noise dBW: 100.02910568085917\n",
      "Noise W: 10067243382.064917\n",
      "parseval_1 = 10067243382.064915\n",
      "parseval_2 = 10067243382.064915\n",
      "0.0\n"
     ]
    }
   ],
   "source": [
    "import numpy as np\n",
    "from filters import add_white_gaussian_noise, add_awgn_band_limited\n",
    "\n",
    "# Print to check AWGN function is working correctly\n",
    "noise = add_white_gaussian_noise(np.zeros(10000, np.complex64), noise_power=100)\n",
    "print(f\"Noise dBW: {10 * np.log10(np.real(np.mean(noise * np.conjugate(noise))))}\")\n",
    "print(f\"Noise W: {np.real(np.mean(noise * np.conjugate(noise)))}\")\n",
    "\n",
    "fouriery_2 = np.fft.fft(noise)\n",
    "N = len(noise)\n",
    "parseval_1 = np.real(np.sum(noise * np.conj(noise))) / N\n",
    "parseval_2 = np.sum(np.abs(fouriery_2) ** 2) / N**2\n",
    "print(f\"{parseval_1 = }\")\n",
    "print(f\"{parseval_2 = }\")\n",
    "print(np.real(parseval_1 - parseval_2))  # Difference should be zero"
   ]
  },
  {
   "cell_type": "code",
   "execution_count": null,
   "metadata": {},
   "outputs": [
    {
     "name": "stdout",
     "output_type": "stream",
     "text": [
      "Desired SNR (dB): 20\n",
      "Actual SNR (dB): 20.56\n"
     ]
    }
   ],
   "source": [
    "fs = 1000  # Sampling rate (Hz)\n",
    "snr_db = 20  # SNR (dB)\n",
    "bw = 200  # Bandwidth (Hz)\n",
    "\n",
    "# Create a sample signal: for instance, a sine wave at 50 Hz\n",
    "t = np.arange(0, 1, 1 / fs)\n",
    "signal = np.sin(2 * np.pi * 50 * t)\n",
    "\n",
    "# Add AWGN with the desired in-band SNR\n",
    "noisy_signal = add_awgn_band_limited(signal, snr_db, fs, bw)\n",
    "\n",
    "# Compute the noise component and then its power in the band:\n",
    "noise = noisy_signal - signal\n",
    "\n",
    "# Compute FFT of the noise\n",
    "N = len(noise)\n",
    "noise_fft = np.fft.fft(noise)\n",
    "freqs = np.fft.fftfreq(N, d=1 / fs)\n",
    "band_inds = np.where(np.abs(freqs) <= bw / 2)[0]\n",
    "noise_power_band = np.sum(np.abs(noise_fft[band_inds]) ** 2) / (N**2)\n",
    "\n",
    "# Compute the signal power in the band\n",
    "signal_fft = np.fft.fft(signal)\n",
    "signal_power_band = np.sum(np.abs(signal_fft[band_inds]) ** 2) / (N**2)\n",
    "\n",
    "actual_snr_linear = signal_power_band / noise_power_band\n",
    "actual_snr_db = 10 * np.log10(actual_snr_linear)\n",
    "\n",
    "print(f\"Desired SNR (dB): {snr_db}\")\n",
    "print(f\"Actual SNR (dB): {actual_snr_db:.2f}\")"
   ]
  }
 ],
 "metadata": {
  "kernelspec": {
   "display_name": "Python 3",
   "language": "python",
   "name": "python3"
  },
  "language_info": {
   "codemirror_mode": {
    "name": "ipython",
    "version": 3
   },
   "file_extension": ".py",
   "mimetype": "text/x-python",
   "name": "python",
   "nbconvert_exporter": "python",
   "pygments_lexer": "ipython3",
   "version": "3.10.12"
  }
 },
 "nbformat": 4,
 "nbformat_minor": 2
}
