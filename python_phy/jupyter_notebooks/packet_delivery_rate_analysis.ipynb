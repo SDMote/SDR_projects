{
 "cells": [
  {
   "cell_type": "code",
   "execution_count": 1,
   "metadata": {},
   "outputs": [],
   "source": [
    "# %matplotlib widget\n",
    "\n",
    "import sys\n",
    "import os\n",
    "import numpy as np\n",
    "import matplotlib.pyplot as plt\n",
    "\n",
    "sys.path.append(os.path.abspath(os.path.join(os.getcwd(), \"..\")))\n",
    "from data_io import read_iq_data\n",
    "from visualisation import PDRPlotter\n",
    "from receiver import ReceiverBLE, Receiver802154, Receiver\n",
    "from filters import add_awgn_band_limited"
   ]
  },
  {
   "cell_type": "code",
   "execution_count": null,
   "metadata": {},
   "outputs": [],
   "source": [
    "from demodulation import TEDType\n",
    "from receiver import DemodulationType, ReceiverType\n",
    "\n",
    "\n",
    "# Computes the packet delivery rate (PDR) and its standard deviation over a range of AWGN SNR values\n",
    "def pdr_vs_snr_analysis(\n",
    "    iq_samples: np.ndarray,\n",
    "    snr_range: range,\n",
    "    bw_snr: float,\n",
    "    fs: float,\n",
    "    receiver_type: str,\n",
    "    demodulation_type: DemodulationType,\n",
    "    ted_type: TEDType,\n",
    "    noise_realisations: int,\n",
    ") -> dict:\n",
    "    \"\"\"\n",
    "    Computes the packet delivery rate (PDR) and its standard deviation over a range of AWGN SNR values.\n",
    "\n",
    "    A packet is considered delivered if the decoded packet passes the CRC check.\n",
    "    It is considered lost if:\n",
    "      - The receiver fails to detect the preamble.\n",
    "      - The CRC check fails.\n",
    "    \"\"\"\n",
    "\n",
    "    receiver_classes: dict[str, type[Receiver]] = {\"BLE\": ReceiverBLE, \"IEEE802154\": Receiver802154}\n",
    "    try:\n",
    "        receiver = receiver_classes[receiver_type](fs)\n",
    "    except KeyError:\n",
    "        raise ValueError(f\"Invalid receiver type '{receiver_type}'. Choose from {list(receiver_classes.keys())}\")\n",
    "\n",
    "    results: dict = {}\n",
    "\n",
    "    for snr in snr_range:\n",
    "        delivered_count: int = 0\n",
    "        preamble_loss_count: int = 0\n",
    "        crc_failure_count: int = 0\n",
    "\n",
    "        for _ in range(noise_realisations):\n",
    "            iq_noisy = add_awgn_band_limited(iq_samples, snr_db=snr, fs=fs, bw=bw_snr)\n",
    "\n",
    "            try:\n",
    "                received_packets: list[dict] = receiver.demodulate_to_packet(\n",
    "                    iq_noisy, demodulation_type=demodulation_type, ted_type=ted_type\n",
    "                )\n",
    "            except ValueError as e:\n",
    "                if \"The binary list\" in str(e):\n",
    "                    preamble_loss_count += 1\n",
    "                    continue\n",
    "                else:\n",
    "                    raise\n",
    "\n",
    "            if not received_packets:\n",
    "                preamble_loss_count += 1\n",
    "            elif not received_packets[0][\"crc_check\"]:\n",
    "                crc_failure_count += 1\n",
    "            else:\n",
    "                delivered_count += 1\n",
    "\n",
    "        results[snr] = {\n",
    "            \"pdr_ratio\": delivered_count / noise_realisations,\n",
    "            \"preamble_loss_ratio\": preamble_loss_count / noise_realisations,\n",
    "            \"crc_failure_ratio\": crc_failure_count / noise_realisations,\n",
    "        }  # preamble_loss_ratio + crc_failure_ratio + pdr_ratio = 1\n",
    "\n",
    "    return results"
   ]
  },
  {
   "cell_type": "code",
   "execution_count": null,
   "metadata": {},
   "outputs": [],
   "source": [
    "import concurrent.futures\n",
    "import numpy as np\n",
    "\n",
    "\n",
    "def process_noise_realisation(\n",
    "    iq_samples: np.ndarray,\n",
    "    snr: float,\n",
    "    fs: float,\n",
    "    bw_snr: float,\n",
    "    receiver: Receiver,\n",
    "    demodulation_type: DemodulationType,\n",
    "    ted_type: TEDType,\n",
    "):\n",
    "    \"\"\"Process one noise realisation: adds noise, demodulates, and categorises the packet result.\"\"\"\n",
    "    iq_noisy = add_awgn_band_limited(iq_samples, snr_db=snr, fs=fs, bw=bw_snr)\n",
    "\n",
    "    try:\n",
    "        received_packets = receiver.demodulate_to_packet(\n",
    "            iq_noisy, demodulation_type=demodulation_type, ted_type=ted_type\n",
    "        )\n",
    "    except ValueError as e:\n",
    "        if \"The binary list\" in str(e):\n",
    "            return \"preamble_loss\"\n",
    "        else:\n",
    "            raise\n",
    "\n",
    "    if not received_packets:\n",
    "        return \"preamble_loss\"\n",
    "    elif not received_packets[0][\"crc_check\"]:\n",
    "        return \"crc_failure\"\n",
    "    else:\n",
    "        return \"delivered\"\n",
    "\n",
    "\n",
    "def pdr_vs_snr_analysis_parallel(\n",
    "    iq_samples: np.ndarray,\n",
    "    snr_range: range,\n",
    "    bw_snr: float,\n",
    "    fs: float,\n",
    "    receiver_type: str,\n",
    "    demodulation_type: str,\n",
    "    ted_type: str,\n",
    "    noise_realisations: int,\n",
    ") -> dict:\n",
    "    \"\"\"Computes the PDR and its standard deviation over a range of SNR values using parallel processing.\"\"\"\n",
    "    receiver_classes: dict[str, type] = {\"BLE\": ReceiverBLE, \"IEEE802154\": Receiver802154}\n",
    "    try:\n",
    "        # Create a new receiver for each SNR value in the worker below\n",
    "        receiver_factory = receiver_classes[receiver_type]\n",
    "    except KeyError:\n",
    "        raise ValueError(f\"Invalid receiver type '{receiver_type}'. Choose from {list(receiver_classes.keys())}\")\n",
    "\n",
    "    results: dict = {}\n",
    "\n",
    "    for snr in snr_range:\n",
    "        receiver = receiver_factory(fs)\n",
    "        delivered_count = 0\n",
    "        preamble_loss_count = 0\n",
    "        crc_failure_count = 0\n",
    "\n",
    "        # Use ProcessPoolExecutor for CPU-bound tasks\n",
    "        with concurrent.futures.ProcessPoolExecutor() as executor:\n",
    "            futures = [\n",
    "                executor.submit(\n",
    "                    process_noise_realisation,\n",
    "                    iq_samples,\n",
    "                    snr,\n",
    "                    fs,\n",
    "                    bw_snr,\n",
    "                    receiver,\n",
    "                    demodulation_type,\n",
    "                    ted_type,\n",
    "                )\n",
    "                for _ in range(noise_realisations)\n",
    "            ]\n",
    "            for future in concurrent.futures.as_completed(futures):\n",
    "                result = future.result()\n",
    "                if result == \"delivered\":\n",
    "                    delivered_count += 1\n",
    "                elif result == \"preamble_loss\":\n",
    "                    preamble_loss_count += 1\n",
    "                elif result == \"crc_failure\":\n",
    "                    crc_failure_count += 1\n",
    "\n",
    "        results[snr] = {\n",
    "            \"pdr_ratio\": delivered_count / noise_realisations,\n",
    "            \"preamble_loss_ratio\": preamble_loss_count / noise_realisations,\n",
    "            \"crc_failure_ratio\": crc_failure_count / noise_realisations,\n",
    "        }\n",
    "\n",
    "    return results"
   ]
  },
  {
   "cell_type": "markdown",
   "metadata": {},
   "source": [
    "# BLE example"
   ]
  },
  {
   "cell_type": "code",
   "execution_count": 4,
   "metadata": {},
   "outputs": [
    {
     "name": "stdout",
     "output_type": "stream",
     "text": [
      "{10: {'pdr_ratio': 0.0501, 'preamble_loss_ratio': 0.1593, 'crc_failure_ratio': 0.7906}, 11: {'pdr_ratio': 0.1786, 'preamble_loss_ratio': 0.141, 'crc_failure_ratio': 0.6804}, 12: {'pdr_ratio': 0.3937, 'preamble_loss_ratio': 0.1317, 'crc_failure_ratio': 0.4746}, 13: {'pdr_ratio': 0.5752, 'preamble_loss_ratio': 0.1199, 'crc_failure_ratio': 0.3049}, 14: {'pdr_ratio': 0.6987, 'preamble_loss_ratio': 0.1056, 'crc_failure_ratio': 0.1957}, 15: {'pdr_ratio': 0.7693, 'preamble_loss_ratio': 0.1005, 'crc_failure_ratio': 0.1302}, 16: {'pdr_ratio': 0.8209, 'preamble_loss_ratio': 0.0899, 'crc_failure_ratio': 0.0892}, 17: {'pdr_ratio': 0.8387, 'preamble_loss_ratio': 0.0885, 'crc_failure_ratio': 0.0728}, 18: {'pdr_ratio': 0.8553, 'preamble_loss_ratio': 0.0867, 'crc_failure_ratio': 0.058}, 19: {'pdr_ratio': 0.8625, 'preamble_loss_ratio': 0.0853, 'crc_failure_ratio': 0.0522}}\n"
     ]
    }
   ],
   "source": [
    "bw_snrs: dict = {\"BLE\": 1.5e6, \"IEEE802154\": 3e6}\n",
    "filenames: dict = {\"BLE\": \"BLE_0dBm.dat\", \"IEEE802154\": \"802154_0dBm.dat\"}  # Open BLE file\n",
    "\n",
    "fs = 10e6  # Hz\n",
    "receiver_type: ReceiverType = \"BLE\"\n",
    "iq_samples: np.ndarray = read_iq_data(f\"../../capture_nRF/data/new/{filenames[receiver_type]}\")\n",
    "demodulation_type: DemodulationType = \"INSTANTANEOUS_FREQUENCY\"\n",
    "ted_type: TEDType = \"MOD_MUELLER_AND_MULLER\"\n",
    "\n",
    "snr_range = range(10, 20, 1)\n",
    "noise_realisations = int(1e4)\n",
    "\n",
    "pdr: dict = pdr_vs_snr_analysis(\n",
    "    iq_samples=iq_samples,\n",
    "    snr_range=snr_range,\n",
    "    bw_snr=bw_snrs[receiver_type],\n",
    "    fs=fs,\n",
    "    receiver_type=receiver_type,\n",
    "    demodulation_type=demodulation_type,\n",
    "    ted_type=ted_type,\n",
    "    noise_realisations=noise_realisations,\n",
    ")\n",
    "\n",
    "print(pdr)"
   ]
  },
  {
   "cell_type": "code",
   "execution_count": 6,
   "metadata": {},
   "outputs": [
    {
     "name": "stdout",
     "output_type": "stream",
     "text": [
      "{10: {'pdr_ratio': 0.0471, 'preamble_loss_ratio': 0.1778, 'crc_failure_ratio': 0.7751}, 11: {'pdr_ratio': 0.1757, 'preamble_loss_ratio': 0.1646, 'crc_failure_ratio': 0.6597}, 12: {'pdr_ratio': 0.3691, 'preamble_loss_ratio': 0.1392, 'crc_failure_ratio': 0.4917}, 13: {'pdr_ratio': 0.5586, 'preamble_loss_ratio': 0.1179, 'crc_failure_ratio': 0.3235}, 14: {'pdr_ratio': 0.6807, 'preamble_loss_ratio': 0.1088, 'crc_failure_ratio': 0.2105}, 15: {'pdr_ratio': 0.7626, 'preamble_loss_ratio': 0.0974, 'crc_failure_ratio': 0.14}, 16: {'pdr_ratio': 0.8085, 'preamble_loss_ratio': 0.0958, 'crc_failure_ratio': 0.0957}, 17: {'pdr_ratio': 0.85, 'preamble_loss_ratio': 0.0784, 'crc_failure_ratio': 0.0716}, 18: {'pdr_ratio': 0.8584, 'preamble_loss_ratio': 0.0792, 'crc_failure_ratio': 0.0624}, 19: {'pdr_ratio': 0.8677, 'preamble_loss_ratio': 0.0808, 'crc_failure_ratio': 0.0515}}\n"
     ]
    }
   ],
   "source": [
    "pdr_parallel: dict = pdr_vs_snr_analysis_parallel(\n",
    "    iq_samples=iq_samples,\n",
    "    snr_range=snr_range,\n",
    "    bw_snr=bw_snrs[receiver_type],\n",
    "    fs=fs,\n",
    "    receiver_type=receiver_type,\n",
    "    demodulation_type=demodulation_type,\n",
    "    ted_type=ted_type,\n",
    "    noise_realisations=noise_realisations,\n",
    ")\n",
    "\n",
    "print(pdr_parallel)"
   ]
  },
  {
   "cell_type": "code",
   "execution_count": 7,
   "metadata": {},
   "outputs": [
    {
     "data": {
      "image/png": "[encoded data removed]",
      "text/plain": [
       "<Figure size 1000x600 with 1 Axes>"
      ]
     },
     "metadata": {},
     "output_type": "display_data"
    }
   ],
   "source": [
    "plotter = PDRPlotter()\n",
    "plotter.add_trace(pdr, \"PDR\", colour=\"blue\", linestyle=\"--\", marker=\"s\")\n",
    "plotter.add_trace(pdr_parallel, \"PDR Parallel\", colour=\"blue\", linestyle=\"-\", marker=\"*\")\n",
    "plotter.plot(title=\"PDR vs SNR Analysis\")"
   ]
  },
  {
   "cell_type": "markdown",
   "metadata": {},
   "source": [
    "# IEEE 802.15.4 example "
   ]
  }
 ],
 "metadata": {
  "kernelspec": {
   "display_name": "Python 3",
   "language": "python",
   "name": "python3"
  },
  "language_info": {
   "codemirror_mode": {
    "name": "ipython",
    "version": 3
   },
   "file_extension": ".py",
   "mimetype": "text/x-python",
   "name": "python",
   "nbconvert_exporter": "python",
   "pygments_lexer": "ipython3",
   "version": "3.10.12"
  }
 },
 "nbformat": 4,
 "nbformat_minor": 2
}
